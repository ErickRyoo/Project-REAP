{
 "cells": [
  {
   "cell_type": "code",
   "execution_count": 1,
   "id": "f77df1c7",
   "metadata": {},
   "outputs": [],
   "source": [
    "# Importing all the important libraries for the analysis. \n",
    "\n",
    "import numpy as np\n",
    "import pandas as pd\n",
    "import matplotlib as mpl\n",
    "import os\n",
    "\n",
    "from array import array"
   ]
  },
  {
   "cell_type": "code",
   "execution_count": null,
   "id": "3bc6d389",
   "metadata": {},
   "outputs": [],
   "source": [
    "# Importing all the important datasets for the analysis.\n",
    "\n",
    "# Datasets of India\n",
    "ind_agriPrac = 'Datasets/'\n",
    "ind_clmtWthr = 'Datasets/'\n",
    "ind_plcyTrds = 'Datasets/'\n",
    "ind_riceProd = 'Datasets/'\n",
    "ind_soilChrs = 'Datasets/'\n",
    "ind_socioEco = 'Datasets/'\n",
    "\n",
    "# Datasets of Philippines\n",
    "phi_agriPrac = 'Datasets/'\n",
    "phi_clmtWthr = 'Datasets/'\n",
    "phi_plcyTrds = 'Datasets/'\n",
    "phi_riceProd = 'Datasets/'\n",
    "phi_soilChrs = 'Datasets/'\n",
    "phi_socioEco = 'Datasets/'"
   ]
  },
  {
   "cell_type": "code",
   "execution_count": null,
   "id": "246d2b44",
   "metadata": {},
   "outputs": [],
   "source": [
    "# Reading and printing the datasets (.csv file format)\n",
    "\n",
    "# India\n",
    "in_rd_agriPr = ind_agriPrac\n",
    "in_rd_clmtWt = ind_clmtWthr\n",
    "in_rd_plcyTr = ind_plcyTrds\n",
    "in_rd_ricePr = ind_riceProd\n",
    "in_rd_soilCh = ind_soilChrs\n",
    "in_rd_socioE = ind_socioEco\n",
    "\n",
    "# Philippines\n",
    "ph_rd_agriPr = phi_agriPrac\n",
    "ph_rd_clmtWt = phi_clmtWthr\n",
    "ph_rd_plcyTr = phi_plcyTrds\n",
    "ph_rd_ricePr = phi_riceProd\n",
    "ph_rd_soilCh = phi_soilChrs\n",
    "ph_rd_socioE = phi_socioEco"
   ]
  }
 ],
 "metadata": {
  "kernelspec": {
   "display_name": "Python 3 (ipykernel)",
   "language": "python",
   "name": "python3"
  },
  "language_info": {
   "codemirror_mode": {
    "name": "ipython",
    "version": 3
   },
   "file_extension": ".py",
   "mimetype": "text/x-python",
   "name": "python",
   "nbconvert_exporter": "python",
   "pygments_lexer": "ipython3",
   "version": "3.10.9"
  }
 },
 "nbformat": 4,
 "nbformat_minor": 5
}
