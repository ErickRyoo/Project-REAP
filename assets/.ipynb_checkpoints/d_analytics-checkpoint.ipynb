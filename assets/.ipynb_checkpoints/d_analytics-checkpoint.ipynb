{
 "cells": [
  {
   "cell_type": "markdown",
   "id": "ea9ae5ec",
   "metadata": {},
   "source": [
    "# REAP: Rice Efficacy Across Philippines: A Data-Driven Cross-Dataset Analysis with India\n",
    "\n",
    "### Project Objectives\n",
    "This project entails a comparative analysis between the agricultural practices of India and the Philippines, with a specific focus on rice cultivation. Python will be employed for data analytics, aiming to provide meaningful insights into the similarities and differences between these two methods. The project seeks to identify key factors contributing to the effectiveness of these practices, while highlighting areas for potential improvement.\n",
    "\n",
    "### Walkthrough\n",
    "\n",
    "#### Datasets Acquisition\n",
    "In this section, we will provide an overview of the datasets included in our study.\n",
    "\n",
    "    1. Rice and Production Datasets\n",
    "    2. Climate and Weather Datasets\n",
    "    3. Soil Characteristics Datasets\n",
    "    4. Agricultural Practices Datasets\n",
    "    5. Socioeconomic and Demographic Datasets\n",
    "    6. Policy and Trade Datasets\n",
    "    "
   ]
  },
  {
   "cell_type": "code",
   "execution_count": 5,
   "id": "546cb31f",
   "metadata": {},
   "outputs": [],
   "source": [
    "import numpy as np\n",
    "import pandas as pd\n",
    "import os"
   ]
  },
  {
   "cell_type": "code",
   "execution_count": 10,
   "id": "019830f5",
   "metadata": {},
   "outputs": [
    {
     "data": {
      "text/html": [
       "<div>\n",
       "<style scoped>\n",
       "    .dataframe tbody tr th:only-of-type {\n",
       "        vertical-align: middle;\n",
       "    }\n",
       "\n",
       "    .dataframe tbody tr th {\n",
       "        vertical-align: top;\n",
       "    }\n",
       "\n",
       "    .dataframe thead th {\n",
       "        text-align: right;\n",
       "    }\n",
       "</style>\n",
       "<table border=\"1\" class=\"dataframe\">\n",
       "  <thead>\n",
       "    <tr style=\"text-align: right;\">\n",
       "      <th></th>\n",
       "      <th>State</th>\n",
       "      <th>District</th>\n",
       "      <th>Crop</th>\n",
       "      <th>Crop_Year</th>\n",
       "      <th>Season</th>\n",
       "      <th>Area</th>\n",
       "      <th>Production</th>\n",
       "      <th>Yield</th>\n",
       "    </tr>\n",
       "  </thead>\n",
       "  <tbody>\n",
       "    <tr>\n",
       "      <th>0</th>\n",
       "      <td>Andaman and Nicobar Island</td>\n",
       "      <td>NICOBARS</td>\n",
       "      <td>Arecanut</td>\n",
       "      <td>2007</td>\n",
       "      <td>Kharif</td>\n",
       "      <td>2439.6</td>\n",
       "      <td>3415.0</td>\n",
       "      <td>1.40</td>\n",
       "    </tr>\n",
       "    <tr>\n",
       "      <th>1</th>\n",
       "      <td>Andaman and Nicobar Island</td>\n",
       "      <td>NICOBARS</td>\n",
       "      <td>Arecanut</td>\n",
       "      <td>2007</td>\n",
       "      <td>Rabi</td>\n",
       "      <td>1626.4</td>\n",
       "      <td>2277.0</td>\n",
       "      <td>1.40</td>\n",
       "    </tr>\n",
       "    <tr>\n",
       "      <th>2</th>\n",
       "      <td>Andaman and Nicobar Island</td>\n",
       "      <td>NICOBARS</td>\n",
       "      <td>Arecanut</td>\n",
       "      <td>2008</td>\n",
       "      <td>Autumn</td>\n",
       "      <td>4147.0</td>\n",
       "      <td>3060.0</td>\n",
       "      <td>0.74</td>\n",
       "    </tr>\n",
       "    <tr>\n",
       "      <th>3</th>\n",
       "      <td>Andaman and Nicobar Island</td>\n",
       "      <td>NICOBARS</td>\n",
       "      <td>Arecanut</td>\n",
       "      <td>2008</td>\n",
       "      <td>Summer</td>\n",
       "      <td>4147.0</td>\n",
       "      <td>2660.0</td>\n",
       "      <td>0.64</td>\n",
       "    </tr>\n",
       "    <tr>\n",
       "      <th>4</th>\n",
       "      <td>Andaman and Nicobar Island</td>\n",
       "      <td>NICOBARS</td>\n",
       "      <td>Arecanut</td>\n",
       "      <td>2009</td>\n",
       "      <td>Autumn</td>\n",
       "      <td>4153.0</td>\n",
       "      <td>3120.0</td>\n",
       "      <td>0.75</td>\n",
       "    </tr>\n",
       "  </tbody>\n",
       "</table>\n",
       "</div>"
      ],
      "text/plain": [
       "                        State District       Crop  Crop_Year       Season  \\\n",
       "0  Andaman and Nicobar Island  NICOBARS  Arecanut       2007  Kharif        \n",
       "1  Andaman and Nicobar Island  NICOBARS  Arecanut       2007  Rabi          \n",
       "2  Andaman and Nicobar Island  NICOBARS  Arecanut       2008  Autumn        \n",
       "3  Andaman and Nicobar Island  NICOBARS  Arecanut       2008  Summer        \n",
       "4  Andaman and Nicobar Island  NICOBARS  Arecanut       2009  Autumn        \n",
       "\n",
       "    Area   Production  Yield  \n",
       "0  2439.6      3415.0   1.40  \n",
       "1  1626.4      2277.0   1.40  \n",
       "2  4147.0      3060.0   0.74  \n",
       "3  4147.0      2660.0   0.64  \n",
       "4  4153.0      3120.0   0.75  "
      ]
     },
     "execution_count": 10,
     "metadata": {},
     "output_type": "execute_result"
    }
   ],
   "source": [
    "check_indProd = pd.read_csv('Datasets/ind_AgriculturalPracticesDatasets_verified.csv')\n",
    "check_indProd.head(5)"
   ]
  },
  {
   "cell_type": "code",
   "execution_count": 53,
   "id": "e7cdcf09",
   "metadata": {},
   "outputs": [
    {
     "name": "stdout",
     "output_type": "stream",
     "text": [
      "                          State District   Crop  Crop_Year       Season  \\\n",
      "468  Andaman and Nicobar Island  NICOBARS  Rice       2007  Kharif        \n",
      "469  Andaman and Nicobar Island  NICOBARS  Rice       2008  Autumn        \n",
      "470  Andaman and Nicobar Island  NICOBARS  Rice       2009  Autumn        \n",
      "471  Andaman and Nicobar Island  NICOBARS  Rice       2000  Kharif        \n",
      "472  Andaman and Nicobar Island  NICOBARS  Rice       2001  Kharif        \n",
      "\n",
      "       Area   Production  Yield  \n",
      "468  7333.75     21864.0   2.98  \n",
      "469  7900.00     14730.0   1.86  \n",
      "470  8140.00     16600.0   2.04  \n",
      "471   102.00       321.0   3.15  \n",
      "472    83.00       300.0   3.61  \n"
     ]
    }
   ],
   "source": [
    "# Drop the rows that does not contain the word \"Rice\"\n",
    "\n",
    "check_indProd = check_indProd.dropna(subset=['Crop'])\n",
    "check_indProd = check_indProd[check_indProd['Crop'].str.contains('Rice')]\n",
    "\n",
    "print(check_indProd.head(5))"
   ]
  },
  {
   "cell_type": "code",
   "execution_count": null,
   "id": "1bebee41",
   "metadata": {},
   "outputs": [],
   "source": []
  }
 ],
 "metadata": {
  "kernelspec": {
   "display_name": "Python 3 (ipykernel)",
   "language": "python",
   "name": "python3"
  },
  "language_info": {
   "codemirror_mode": {
    "name": "ipython",
    "version": 3
   },
   "file_extension": ".py",
   "mimetype": "text/x-python",
   "name": "python",
   "nbconvert_exporter": "python",
   "pygments_lexer": "ipython3",
   "version": "3.10.9"
  }
 },
 "nbformat": 4,
 "nbformat_minor": 5
}
